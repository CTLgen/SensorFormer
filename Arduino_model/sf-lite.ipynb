{
 "cells": [
  {
   "cell_type": "markdown",
   "id": "85889a3a-89b1-4ba0-9171-1cdfb11caf33",
   "metadata": {},
   "source": [
    "### Convert the model to tflite"
   ]
  },
  {
   "cell_type": "code",
   "execution_count": 1,
   "id": "62f91394-1e04-405a-b71a-f836f54e0ab2",
   "metadata": {},
   "outputs": [],
   "source": [
    "import tensorflow as tf"
   ]
  },
  {
   "cell_type": "code",
   "execution_count": 2,
   "id": "06018e89-e52f-447a-8e63-4b80f24b489e",
   "metadata": {},
   "outputs": [],
   "source": [
    "model = tf.saved_model.load('sf_lite.pb')"
   ]
  },
  {
   "cell_type": "code",
   "execution_count": 3,
   "id": "2a6b8634-2964-4b80-baa8-f2a6a09bc504",
   "metadata": {},
   "outputs": [],
   "source": [
    "converter = tf.lite.TFLiteConverter.from_saved_model(\"sf_lite.pb\")"
   ]
  },
  {
   "cell_type": "code",
   "execution_count": 4,
   "id": "2ee9c80f-6a9d-48e4-a501-7fe9a6f128c2",
   "metadata": {},
   "outputs": [
    {
     "data": {
      "text/plain": [
       "38956"
      ]
     },
     "execution_count": 4,
     "metadata": {},
     "output_type": "execute_result"
    }
   ],
   "source": [
    "tflite_model = converter.convert()\n",
    "open(\"sf_lite.tflite\", \"wb\").write(tflite_model)"
   ]
  },
  {
   "cell_type": "markdown",
   "id": "88705221-9a3b-4199-bd4c-567fe6ef73bb",
   "metadata": {},
   "source": [
    "### Model Compression"
   ]
  },
  {
   "cell_type": "code",
   "execution_count": 5,
   "id": "03f9c4f8-768b-4bef-89c2-5f8ad2b38a69",
   "metadata": {},
   "outputs": [],
   "source": [
    "from __future__ import absolute_import, division, print_function, unicode_literals\n",
    "\n",
    "import matplotlib.pylab as plt\n",
    "import tensorflow as tf\n",
    "#import tensorflow_hub as hub\n",
    "import numpy as np"
   ]
  },
  {
   "cell_type": "code",
   "execution_count": 6,
   "id": "4fb3d66f-9eb6-4a7a-8151-b541a4a02097",
   "metadata": {},
   "outputs": [],
   "source": [
    "TFLITE_MODEL = \"sf_lite.tflite\"\n",
    "TFLITE_QUANT_MODEL = \"sf_quant_lite.tflite\""
   ]
  },
  {
   "cell_type": "code",
   "execution_count": 7,
   "id": "db277b2c-154f-41e0-b7f1-8e89091c1ff8",
   "metadata": {},
   "outputs": [],
   "source": [
    "TFLITE_QUANT_MODEL = \"sf_quant_lite.tflite\""
   ]
  },
  {
   "cell_type": "code",
   "execution_count": 8,
   "id": "913fc7d4-c4ec-4d7b-b94b-0528401369a1",
   "metadata": {},
   "outputs": [],
   "source": [
    "def representative_dataset():\n",
    "    for _ in range(100):\n",
    "      data = np.random.rand(1, 12, 7)\n",
    "      yield [data.astype(np.float32)]"
   ]
  },
  {
   "cell_type": "code",
   "execution_count": null,
   "id": "82f8cb99-c1ab-4bf9-9244-daa758f10ca8",
   "metadata": {},
   "outputs": [],
   "source": []
  },
  {
   "cell_type": "code",
   "execution_count": 9,
   "id": "37fbfac0-5d92-4159-9e62-f09ab74b5975",
   "metadata": {},
   "outputs": [],
   "source": [
    "import tensorflow as tf\n",
    "converter = tf.lite.TFLiteConverter.from_saved_model(\"sf_lite.pb\")\n",
    "converter.optimizations = [tf.lite.Optimize.DEFAULT]\n",
    "converter.target_spec.supported_types = [tf.float16]\n",
    "tflite_quant_model = converter.convert()"
   ]
  },
  {
   "cell_type": "code",
   "execution_count": null,
   "id": "e89d6c15-84bc-4ada-ba9d-949b5a18adf4",
   "metadata": {},
   "outputs": [],
   "source": []
  },
  {
   "cell_type": "code",
   "execution_count": null,
   "id": "f648903c-36c7-4f2d-85eb-85aed8f8dffd",
   "metadata": {},
   "outputs": [],
   "source": []
  },
  {
   "cell_type": "code",
   "execution_count": 10,
   "id": "ba27eec7-30f2-48f5-9c55-4341c8634109",
   "metadata": {},
   "outputs": [
    {
     "data": {
      "text/plain": [
       "30560"
      ]
     },
     "execution_count": 10,
     "metadata": {},
     "output_type": "execute_result"
    }
   ],
   "source": [
    "open(TFLITE_QUANT_MODEL, \"wb\").write(tflite_quant_model)"
   ]
  },
  {
   "cell_type": "code",
   "execution_count": null,
   "id": "26248a73-75a7-4746-a929-6453911c404e",
   "metadata": {},
   "outputs": [],
   "source": []
  },
  {
   "cell_type": "code",
   "execution_count": null,
   "id": "d477f0d4-f04a-44b6-9e4b-557a187cd530",
   "metadata": {},
   "outputs": [],
   "source": []
  },
  {
   "cell_type": "markdown",
   "id": "9f8d8550-ef91-4624-a434-19446cbf5982",
   "metadata": {},
   "source": [
    "### Test Inference"
   ]
  },
  {
   "cell_type": "code",
   "execution_count": 11,
   "id": "6f81bdc0-5976-401a-8e07-38f04a277365",
   "metadata": {},
   "outputs": [],
   "source": [
    "gru_input = np.random.rand(1, 12, 7)"
   ]
  },
  {
   "cell_type": "code",
   "execution_count": 12,
   "id": "1a89aed5-0764-4e30-ac2f-1691b9b3459f",
   "metadata": {},
   "outputs": [
    {
     "name": "stdout",
     "output_type": "stream",
     "text": [
      "[ 1 12  7] [ 1 12  1]\n",
      "0\n",
      "model time:  21.7437744140625\n",
      "used_time:0.20647048950195312\n",
      "model_interpreter_time:1.4498233795166016\n"
     ]
    }
   ],
   "source": [
    "import numpy as np\n",
    "import tensorflow as tf\n",
    "import time\n",
    "\n",
    "# Load the TFLite model and allocate tensors.\n",
    "interpreter = tf.lite.Interpreter(model_path=\"sf_lite.tflite\")\n",
    "interpreter.allocate_tensors()\n",
    "\n",
    "# Get input and output tensors.\n",
    "input_details = interpreter.get_input_details()\n",
    "output_details = interpreter.get_output_details()\n",
    "print(input_details[0]['shape'],output_details[0]['shape'])\n",
    "\n",
    "\n",
    "results = []\n",
    "\n",
    "for i in range(0,gru_input.shape[0]):\n",
    "    print(i)\n",
    "   \n",
    "    model_interpreter_time = 0\n",
    "    \n",
    "    \n",
    "    interpreter.allocate_tensors()\n",
    "    #print(i)\n",
    "    tmp = (gru_input[i])\n",
    "    #print(tmp.shape)\n",
    "    \n",
    "    ## add one dimenstion and change data type\n",
    "    tmp_expanded = np.expand_dims(tmp,axis=0)\n",
    "    tmp_expanded = tmp_expanded.astype('float32')\n",
    "    #print(tmp_expanded.shape)\n",
    "    \n",
    "    ## load data\n",
    "    model_interpreter_start_time = time.time()\n",
    "    input_tensor_z= tf.convert_to_tensor(tmp_expanded, np.float32)\n",
    "    interpreter.set_tensor(input_details[0]['index'],input_tensor_z)\n",
    "    \n",
    "    ## invoke model\n",
    "    interpreter.invoke()\n",
    "    start_time = time.time()\n",
    "    output_data = interpreter.get_tensor(output_details[0]['index'])\n",
    "    print('model time: ', (time.time()-start_time)*1000*1600)\n",
    "    model_interpreter_time += time.time() - model_interpreter_start_time\n",
    "    \n",
    "    result = np.squeeze(output_data)\n",
    "    results.append(result)\n",
    "    #break\n",
    "used_time = time.time() - start_time\n",
    "tflite_pred= np.array(results).reshape(-1,1)\n",
    "\n",
    "print('used_time:{}'.format(used_time*1000))\n",
    "print('model_interpreter_time:{}'.format(model_interpreter_time*1000))"
   ]
  },
  {
   "cell_type": "code",
   "execution_count": null,
   "id": "514f7ada-2352-4958-a4de-dcf56930216d",
   "metadata": {},
   "outputs": [],
   "source": []
  },
  {
   "cell_type": "code",
   "execution_count": null,
   "id": "d553d15b-4161-4438-99d6-f076204594e2",
   "metadata": {},
   "outputs": [],
   "source": []
  },
  {
   "cell_type": "code",
   "execution_count": null,
   "id": "26bb2abc-58e8-4e5b-8dfc-6d36a509fc6b",
   "metadata": {},
   "outputs": [],
   "source": []
  },
  {
   "cell_type": "code",
   "execution_count": 13,
   "id": "4406c4e0-3b57-4ffb-bfef-6cfa61b8b218",
   "metadata": {},
   "outputs": [
    {
     "name": "stdout",
     "output_type": "stream",
     "text": [
      "[ 1 12  7] [ 1 12  1]\n",
      "0\n",
      "model time:  15.6402587890625\n",
      "used_time:0.21505355834960938\n",
      "model_interpreter_time:0.5826950073242188\n"
     ]
    }
   ],
   "source": [
    "import numpy as np\n",
    "import tensorflow as tf\n",
    "import time\n",
    "\n",
    "# Load the TFLite model and allocate tensors.\n",
    "interpreter = tf.lite.Interpreter(model_path=\"sf_quant_lite.tflite\")\n",
    "interpreter.allocate_tensors()\n",
    "\n",
    "# Get input and output tensors.\n",
    "input_details = interpreter.get_input_details()\n",
    "output_details = interpreter.get_output_details()\n",
    "print(input_details[0]['shape'],output_details[0]['shape'])\n",
    "\n",
    "\n",
    "results = []\n",
    "\n",
    "for i in range(0,gru_input.shape[0]):\n",
    "    print(i)\n",
    "    \n",
    "    model_interpreter_time = 0\n",
    "    \n",
    "    \n",
    "    interpreter.allocate_tensors()\n",
    "    #print(i)\n",
    "    tmp = (gru_input[i])\n",
    "    #print(tmp.shape)\n",
    "    \n",
    "    ## add one dimenstion and change data type\n",
    "    tmp_expanded = np.expand_dims(tmp,axis=0)\n",
    "    tmp_expanded = tmp_expanded.astype('float32')\n",
    "    #print(tmp_expanded.shape)\n",
    "    \n",
    "    ## load data\n",
    "    model_interpreter_start_time = time.time()\n",
    "    input_tensor_z= tf.convert_to_tensor(tmp_expanded, np.float32)\n",
    "    interpreter.set_tensor(input_details[0]['index'],input_tensor_z)\n",
    "    \n",
    "    ## invoke model\n",
    "    interpreter.invoke()\n",
    "    start_time = time.time()\n",
    "    output_data = interpreter.get_tensor(output_details[0]['index'])\n",
    "    print('model time: ', (time.time()-start_time)*1000*1600)\n",
    "    model_interpreter_time += time.time() - model_interpreter_start_time\n",
    "    \n",
    "    result = np.squeeze(output_data)\n",
    "    results.append(result)\n",
    "    #break\n",
    "used_time = time.time() - start_time\n",
    "tflite_pred= np.array(results).reshape(-1,1)\n",
    "\n",
    "print('used_time:{}'.format(used_time*1000))\n",
    "print('model_interpreter_time:{}'.format(model_interpreter_time*1000))"
   ]
  },
  {
   "cell_type": "code",
   "execution_count": null,
   "id": "9f09c57f-b0c2-4a50-bda2-0c965e3a8e99",
   "metadata": {},
   "outputs": [],
   "source": []
  },
  {
   "cell_type": "code",
   "execution_count": null,
   "id": "9fd2380b-5bd2-4677-ba45-1c16f0feba3a",
   "metadata": {},
   "outputs": [],
   "source": []
  },
  {
   "cell_type": "markdown",
   "id": "5767cabb-f708-40ba-b698-dd0282f116c6",
   "metadata": {},
   "source": [
    "### Conver the tflite model model to cc files used in Arduino"
   ]
  },
  {
   "cell_type": "code",
   "execution_count": 14,
   "id": "dc336687-1cea-44d3-82a0-0840b37a9c43",
   "metadata": {},
   "outputs": [],
   "source": [
    "! xxd -i sf_quant_lite.tflite > sf_quant_lite.cc"
   ]
  },
  {
   "cell_type": "code",
   "execution_count": null,
   "id": "45297008-276a-422d-92bf-64398b2a6de3",
   "metadata": {},
   "outputs": [],
   "source": []
  }
 ],
 "metadata": {
  "kernelspec": {
   "display_name": "Python 3",
   "language": "python",
   "name": "python3"
  },
  "language_info": {
   "codemirror_mode": {
    "name": "ipython",
    "version": 3
   },
   "file_extension": ".py",
   "mimetype": "text/x-python",
   "name": "python",
   "nbconvert_exporter": "python",
   "pygments_lexer": "ipython3",
   "version": "3.6.9"
  }
 },
 "nbformat": 4,
 "nbformat_minor": 5
}
