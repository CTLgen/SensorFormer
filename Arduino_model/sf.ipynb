{
 "cells": [
  {
   "cell_type": "markdown",
   "id": "d60af877-acc4-46cc-a038-b5d3778e0cbc",
   "metadata": {},
   "source": [
    "### Convert the model to tflite"
   ]
  },
  {
   "cell_type": "code",
   "execution_count": 1,
   "id": "62f91394-1e04-405a-b71a-f836f54e0ab2",
   "metadata": {},
   "outputs": [],
   "source": [
    "import tensorflow as tf"
   ]
  },
  {
   "cell_type": "code",
   "execution_count": 2,
   "id": "06018e89-e52f-447a-8e63-4b80f24b489e",
   "metadata": {},
   "outputs": [],
   "source": [
    "model = tf.saved_model.load('sf.pb')"
   ]
  },
  {
   "cell_type": "code",
   "execution_count": 3,
   "id": "2a6b8634-2964-4b80-baa8-f2a6a09bc504",
   "metadata": {},
   "outputs": [],
   "source": [
    "converter = tf.lite.TFLiteConverter.from_saved_model(\"sf.pb\")"
   ]
  },
  {
   "cell_type": "code",
   "execution_count": 4,
   "id": "2ee9c80f-6a9d-48e4-a501-7fe9a6f128c2",
   "metadata": {},
   "outputs": [
    {
     "data": {
      "text/plain": [
       "46504"
      ]
     },
     "execution_count": 4,
     "metadata": {},
     "output_type": "execute_result"
    }
   ],
   "source": [
    "tflite_model = converter.convert()\n",
    "open(\"sf.tflite\", \"wb\").write(tflite_model)"
   ]
  },
  {
   "cell_type": "markdown",
   "id": "0cc886cf-e0ef-4ec8-9f6f-f88b48fd97ea",
   "metadata": {},
   "source": [
    "### Model Compression"
   ]
  },
  {
   "cell_type": "code",
   "execution_count": 5,
   "id": "03f9c4f8-768b-4bef-89c2-5f8ad2b38a69",
   "metadata": {},
   "outputs": [],
   "source": [
    "from __future__ import absolute_import, division, print_function, unicode_literals\n",
    "\n",
    "import matplotlib.pylab as plt\n",
    "import tensorflow as tf\n",
    "#import tensorflow_hub as hub\n",
    "import numpy as np"
   ]
  },
  {
   "cell_type": "code",
   "execution_count": 6,
   "id": "4fb3d66f-9eb6-4a7a-8151-b541a4a02097",
   "metadata": {},
   "outputs": [],
   "source": [
    "TFLITE_MODEL = \"sf.tflite\"\n",
    "TFLITE_QUANT_MODEL = \"sf_quant.tflite\""
   ]
  },
  {
   "cell_type": "code",
   "execution_count": 7,
   "id": "db277b2c-154f-41e0-b7f1-8e89091c1ff8",
   "metadata": {},
   "outputs": [],
   "source": [
    "TFLITE_QUANT_MODEL = \"sf_quant.tflite\""
   ]
  },
  {
   "cell_type": "code",
   "execution_count": 8,
   "id": "913fc7d4-c4ec-4d7b-b94b-0528401369a1",
   "metadata": {},
   "outputs": [],
   "source": [
    "def representative_dataset():\n",
    "    for _ in range(100):\n",
    "      data = np.random.rand(1, 12, 7)\n",
    "      yield [data.astype(np.float32)]"
   ]
  },
  {
   "cell_type": "code",
   "execution_count": null,
   "id": "9a65aaaa-82c4-4f1c-86b2-486f450f6f4f",
   "metadata": {},
   "outputs": [],
   "source": []
  },
  {
   "cell_type": "code",
   "execution_count": 11,
   "id": "a040609d-23d1-4c1d-bf44-2ac983c68c95",
   "metadata": {},
   "outputs": [],
   "source": [
    "import tensorflow as tf\n",
    "converter = tf.lite.TFLiteConverter.from_saved_model(\"sf.pb\")\n",
    "converter.optimizations = [tf.lite.Optimize.DEFAULT]\n",
    "converter.target_spec.supported_types = [tf.float16]\n",
    "tflite_quant_model = converter.convert()"
   ]
  },
  {
   "cell_type": "markdown",
   "id": "8f5d3b67-21da-4f97-885d-614d709f3246",
   "metadata": {},
   "source": [
    "import tensorflow as tf\n",
    "converter = tf.lite.TFLiteConverter.from_saved_model(\"sf.pb\")\n",
    "converter.optimizations = [tf.lite.Optimize.DEFAULT]\n",
    "converter.target_spec.supported_types = [tf.float16]\n",
    "tflite_quant_model = converter.convert()"
   ]
  },
  {
   "cell_type": "code",
   "execution_count": 12,
   "id": "ba27eec7-30f2-48f5-9c55-4341c8634109",
   "metadata": {},
   "outputs": [
    {
     "data": {
      "text/plain": [
       "38896"
      ]
     },
     "execution_count": 12,
     "metadata": {},
     "output_type": "execute_result"
    }
   ],
   "source": [
    "open(TFLITE_QUANT_MODEL, \"wb\").write(tflite_quant_model)"
   ]
  },
  {
   "cell_type": "code",
   "execution_count": null,
   "id": "30fe5cdb-ed7c-4252-b3d9-b66ef9df78f3",
   "metadata": {},
   "outputs": [],
   "source": []
  },
  {
   "cell_type": "markdown",
   "id": "5afbff57-0f82-4b54-951c-bccd0af94f9d",
   "metadata": {},
   "source": [
    "### Test Inference"
   ]
  },
  {
   "cell_type": "code",
   "execution_count": 13,
   "id": "6f81bdc0-5976-401a-8e07-38f04a277365",
   "metadata": {},
   "outputs": [],
   "source": [
    "gru_input = np.random.rand(1, 12, 7)"
   ]
  },
  {
   "cell_type": "code",
   "execution_count": 15,
   "id": "1a89aed5-0764-4e30-ac2f-1691b9b3459f",
   "metadata": {},
   "outputs": [
    {
     "name": "stdout",
     "output_type": "stream",
     "text": [
      "[ 1 12  7] [ 1 12  1]\n",
      "model time:  21.3623046875\n",
      "used_time:0.2162456512451172\n",
      "model_interpreter_time:0.7371902465820312\n"
     ]
    }
   ],
   "source": [
    "import numpy as np\n",
    "import tensorflow as tf\n",
    "import time\n",
    "\n",
    "# Load the TFLite model and allocate tensors.\n",
    "interpreter = tf.lite.Interpreter(model_path=\"sf.tflite\")\n",
    "interpreter.allocate_tensors()\n",
    "\n",
    "# Get input and output tensors.\n",
    "input_details = interpreter.get_input_details()\n",
    "output_details = interpreter.get_output_details()\n",
    "print(input_details[0]['shape'],output_details[0]['shape'])\n",
    "\n",
    "\n",
    "results = []\n",
    "\n",
    "for i in range(0,gru_input.shape[0]):\n",
    "   \n",
    "    model_interpreter_time = 0\n",
    "    \n",
    "    \n",
    "    interpreter.allocate_tensors()\n",
    "    #print(i)\n",
    "    tmp = (gru_input[i])\n",
    "    #print(tmp.shape)\n",
    "    \n",
    "    ## add one dimenstion and change data type\n",
    "    tmp_expanded = np.expand_dims(tmp,axis=0)\n",
    "    tmp_expanded = tmp_expanded.astype('float32')\n",
    "    #print(tmp_expanded.shape)\n",
    "    \n",
    "    ## load data\n",
    "    model_interpreter_start_time = time.time()\n",
    "    input_tensor_z= tf.convert_to_tensor(tmp_expanded, np.float32)\n",
    "    interpreter.set_tensor(input_details[0]['index'],input_tensor_z)\n",
    "    \n",
    "    ## invoke model\n",
    "    interpreter.invoke()\n",
    "    start_time = time.time()\n",
    "    output_data = interpreter.get_tensor(output_details[0]['index'])\n",
    "    print('model time: ', (time.time()-start_time)*1000*1600)\n",
    "    model_interpreter_time += time.time() - model_interpreter_start_time\n",
    "    \n",
    "    result = np.squeeze(output_data)\n",
    "    results.append(result)\n",
    "    #break\n",
    "used_time = time.time() - start_time\n",
    "tflite_pred= np.array(results).reshape(-1,1)\n",
    "\n",
    "print('used_time:{}'.format(used_time*1000))\n",
    "print('model_interpreter_time:{}'.format(model_interpreter_time*1000))"
   ]
  },
  {
   "cell_type": "code",
   "execution_count": null,
   "id": "514f7ada-2352-4958-a4de-dcf56930216d",
   "metadata": {},
   "outputs": [],
   "source": []
  },
  {
   "cell_type": "code",
   "execution_count": null,
   "id": "d553d15b-4161-4438-99d6-f076204594e2",
   "metadata": {},
   "outputs": [],
   "source": []
  },
  {
   "cell_type": "code",
   "execution_count": null,
   "id": "26bb2abc-58e8-4e5b-8dfc-6d36a509fc6b",
   "metadata": {},
   "outputs": [],
   "source": []
  },
  {
   "cell_type": "code",
   "execution_count": 16,
   "id": "4406c4e0-3b57-4ffb-bfef-6cfa61b8b218",
   "metadata": {},
   "outputs": [
    {
     "name": "stdout",
     "output_type": "stream",
     "text": [
      "[ 1 12  7] [ 1 12  1]\n",
      "model time:  15.2587890625\n",
      "used_time:0.20265579223632812\n",
      "model_interpreter_time:1.2671947479248047\n"
     ]
    }
   ],
   "source": [
    "import numpy as np\n",
    "import tensorflow as tf\n",
    "import time\n",
    "\n",
    "# Load the TFLite model and allocate tensors.\n",
    "interpreter = tf.lite.Interpreter(model_path=\"sf_quant.tflite\")\n",
    "interpreter.allocate_tensors()\n",
    "\n",
    "# Get input and output tensors.\n",
    "input_details = interpreter.get_input_details()\n",
    "output_details = interpreter.get_output_details()\n",
    "print(input_details[0]['shape'],output_details[0]['shape'])\n",
    "\n",
    "\n",
    "results = []\n",
    "\n",
    "for i in range(0,gru_input.shape[0]):\n",
    "    \n",
    "    model_interpreter_time = 0\n",
    "    \n",
    "    \n",
    "    interpreter.allocate_tensors()\n",
    "    #print(i)\n",
    "    tmp = (gru_input[i])\n",
    "    #print(tmp.shape)\n",
    "    \n",
    "    ## add one dimenstion and change data type\n",
    "    tmp_expanded = np.expand_dims(tmp,axis=0)\n",
    "    tmp_expanded = tmp_expanded.astype('float32')\n",
    "    #print(tmp_expanded.shape)\n",
    "    \n",
    "    ## load data\n",
    "    model_interpreter_start_time = time.time()\n",
    "    input_tensor_z= tf.convert_to_tensor(tmp_expanded, np.float32)\n",
    "    interpreter.set_tensor(input_details[0]['index'],input_tensor_z)\n",
    "    \n",
    "    ## invoke model\n",
    "    interpreter.invoke()\n",
    "    start_time = time.time()\n",
    "    output_data = interpreter.get_tensor(output_details[0]['index'])\n",
    "    print('model time: ', (time.time()-start_time)*1000*1600)\n",
    "    model_interpreter_time += time.time() - model_interpreter_start_time\n",
    "    \n",
    "    result = np.squeeze(output_data)\n",
    "    results.append(result)\n",
    "    #break\n",
    "used_time = time.time() - start_time\n",
    "tflite_pred= np.array(results).reshape(-1,1)\n",
    "\n",
    "print('used_time:{}'.format(used_time*1000))\n",
    "print('model_interpreter_time:{}'.format(model_interpreter_time*1000))"
   ]
  },
  {
   "cell_type": "code",
   "execution_count": null,
   "id": "a2d55de2-e81b-4d74-b78e-55ead74a8458",
   "metadata": {},
   "outputs": [],
   "source": []
  },
  {
   "cell_type": "code",
   "execution_count": null,
   "id": "5ab71bb4-ecf5-439c-9605-fcff818f6160",
   "metadata": {},
   "outputs": [],
   "source": []
  },
  {
   "cell_type": "code",
   "execution_count": null,
   "id": "e8da8ead-1230-4b6b-bf62-af1ce6a69e43",
   "metadata": {},
   "outputs": [],
   "source": []
  },
  {
   "cell_type": "code",
   "execution_count": null,
   "id": "210c3720-e17b-4fa2-9294-608a7a163899",
   "metadata": {},
   "outputs": [],
   "source": []
  },
  {
   "cell_type": "markdown",
   "id": "90d28057-51c6-4627-a323-6946c5c8d483",
   "metadata": {},
   "source": [
    "### Conver the tflite model model to cc files used in Arduino"
   ]
  },
  {
   "cell_type": "code",
   "execution_count": 17,
   "id": "3ed675d3-36bf-4a10-8f96-d6d7c84165f3",
   "metadata": {},
   "outputs": [],
   "source": [
    "! xxd -i sf_quant.tflite > sf_quant.cc"
   ]
  },
  {
   "cell_type": "code",
   "execution_count": null,
   "id": "a4070b4a-2eb6-4d51-abb5-030502ed275c",
   "metadata": {},
   "outputs": [],
   "source": []
  }
 ],
 "metadata": {
  "kernelspec": {
   "display_name": "Python 3",
   "language": "python",
   "name": "python3"
  },
  "language_info": {
   "codemirror_mode": {
    "name": "ipython",
    "version": 3
   },
   "file_extension": ".py",
   "mimetype": "text/x-python",
   "name": "python",
   "nbconvert_exporter": "python",
   "pygments_lexer": "ipython3",
   "version": "3.6.9"
  }
 },
 "nbformat": 4,
 "nbformat_minor": 5
}
